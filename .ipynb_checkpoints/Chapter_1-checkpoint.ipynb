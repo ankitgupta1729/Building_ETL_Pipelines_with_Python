{
 "cells": [
  {
   "cell_type": "markdown",
   "id": "64b553a7",
   "metadata": {},
   "source": [
    "## Inheritence"
   ]
  },
  {
   "cell_type": "code",
   "execution_count": 1,
   "id": "8cf3927e",
   "metadata": {},
   "outputs": [],
   "source": [
    "class DataPipelineBook:\n",
    "    def __init__(self): # constructor\n",
    "        print(\"This book is very hot in the market\")\n",
    "        self.pages=300\n",
    "    def what_is_this(self):\n",
    "        print(\"Book\")\n",
    "    def pages(self):\n",
    "        return self.pages\n",
    "class PythonDataPipelineBook(DataPipelineBook):\n",
    "    def __init__(self):\n",
    "        super().__init__()\n",
    "        print(\"Create Data Pipeline with Python\")\n",
    "    def what_technology_is_used(self):\n",
    "        return \"Python\""
   ]
  },
  {
   "cell_type": "code",
   "execution_count": 2,
   "id": "356b578c",
   "metadata": {},
   "outputs": [
    {
     "name": "stdout",
     "output_type": "stream",
     "text": [
      "This book is very hot in the market\n",
      "Create Data Pipeline with Python\n"
     ]
    },
    {
     "data": {
      "text/plain": [
       "<__main__.PythonDataPipelineBook at 0x17630d60400>"
      ]
     },
     "execution_count": 2,
     "metadata": {},
     "output_type": "execute_result"
    }
   ],
   "source": [
    "pipeline=PythonDataPipelineBook()\n",
    "pipeline"
   ]
  },
  {
   "cell_type": "code",
   "execution_count": 3,
   "id": "a20c554f",
   "metadata": {},
   "outputs": [
    {
     "data": {
      "text/plain": [
       "300"
      ]
     },
     "execution_count": 3,
     "metadata": {},
     "output_type": "execute_result"
    }
   ],
   "source": [
    "pipeline.pages"
   ]
  },
  {
   "cell_type": "code",
   "execution_count": 4,
   "id": "3d5f7c78",
   "metadata": {},
   "outputs": [
    {
     "data": {
      "text/plain": [
       "'Python'"
      ]
     },
     "execution_count": 4,
     "metadata": {},
     "output_type": "execute_result"
    }
   ],
   "source": [
    "pipeline.what_technology_is_used()"
   ]
  },
  {
   "cell_type": "code",
   "execution_count": 5,
   "id": "6f9280e8",
   "metadata": {},
   "outputs": [
    {
     "name": "stdout",
     "output_type": "stream",
     "text": [
      "Book\n"
     ]
    }
   ],
   "source": [
    "pipeline.what_is_this()"
   ]
  },
  {
   "cell_type": "markdown",
   "id": "f5c3ab27",
   "metadata": {},
   "source": [
    "There’s an even better way to ensure your files are closed properly: using a context manager. When you open a\n",
    "file using a context manager, the file is automatically closed once you’re done with it. This helps prevent any\n",
    "potential issues or errors that could arise from leaving a file open."
   ]
  },
  {
   "cell_type": "markdown",
   "id": "60fbc189",
   "metadata": {},
   "source": [
    "Using a context manager, you can easily make sure that your file is closed after performing a write operation."
   ]
  },
  {
   "cell_type": "code",
   "execution_count": 6,
   "id": "63e54f24",
   "metadata": {},
   "outputs": [],
   "source": [
    "with open(\"test_file.txt\", \"w\") as f:\n",
    "    f.write(\"This is test data\")"
   ]
  },
  {
   "cell_type": "markdown",
   "id": "b90090e6",
   "metadata": {},
   "source": [
    "By using the with keyword, you can ensure that the test_file.txt file will be closed automatically after the write\n",
    "operation is completed. No more worrying about leaving your file open and causing issues down the line!"
   ]
  },
  {
   "cell_type": "code",
   "execution_count": null,
   "id": "cf9ea976",
   "metadata": {},
   "outputs": [],
   "source": []
  }
 ],
 "metadata": {
  "kernelspec": {
   "display_name": "Python 3 (ipykernel)",
   "language": "python",
   "name": "python3"
  },
  "language_info": {
   "codemirror_mode": {
    "name": "ipython",
    "version": 3
   },
   "file_extension": ".py",
   "mimetype": "text/x-python",
   "name": "python",
   "nbconvert_exporter": "python",
   "pygments_lexer": "ipython3",
   "version": "3.6.13"
  }
 },
 "nbformat": 4,
 "nbformat_minor": 5
}
